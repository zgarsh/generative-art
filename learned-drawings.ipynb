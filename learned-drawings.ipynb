{
 "cells": [
  {
   "cell_type": "code",
   "execution_count": 19,
   "metadata": {},
   "outputs": [],
   "source": [
    "import matplotlib.pyplot as plt\n",
    "import numpy as np\n",
    "import random\n",
    "#JTK As discussed, instead of using copy.deepcopy(<nparray>), can call nparray.copy(). Image objects have the same method.\n",
    "import copy\n",
    "from PIL import Image"
   ]
  },
  {
   "cell_type": "code",
   "execution_count": 9,
   "metadata": {},
   "outputs": [],
   "source": [
    "def create_artboard(rows, cols):\n",
    "    return np.zeros([rows, cols])\n",
    "\n",
    "def create_empty_target(rows, cols):\n",
    "    return np.zeros([rows, cols])"
   ]
  },
  {
   "cell_type": "code",
   "execution_count": 10,
   "metadata": {},
   "outputs": [],
   "source": [
    "def process_pic(image_path, target_width=300):\n",
    "    \n",
    "#     open image and convert to grayscale. image can be jpeg or png\n",
    "    processed_pic = Image.open(image_path).convert('L')\n",
    "\n",
    "#     resize image to match specified width while maintaining ratio\n",
    "    #JTK Why not just rename the param, instead of reassigning it in the function?\n",
    "    basewidth = target_width\n",
    "    #JTK In python3 (but NOT python2!!), int/int=float. Don't need to explicitly cast to float first in python3\n",
    "    wpercent = (basewidth/float(processed_pic.size[0]))\n",
    "    #JTK same as above (this is more styling than functional, but it's still good to know)\n",
    "    hsize = int((float(processed_pic.size[1])*float(wpercent)))\n",
    "    processed_pic = processed_pic.resize((basewidth, hsize), Image.ANTIALIAS)\n",
    "    \n",
    "#     convert to numpy array\n",
    "    processed_pic = np.asarray(processed_pic)\n",
    "    \n",
    "    print('shape:', processed_pic.shape)\n",
    "    \n",
    "    return processed_pic"
   ]
  },
  {
   "cell_type": "code",
   "execution_count": 11,
   "metadata": {},
   "outputs": [],
   "source": [
    "def add_random_variable_rectangle_and_report_change_locations(artboard, rect_rows, rect_cols):\n",
    "    \n",
    "#     get relative locations of all values to be written, where 0, 0 is top left location\n",
    "    cell_positions_from_top_left = []\n",
    "    \n",
    "    #JTK Using a python for loop is typically slow.\n",
    "    #JTK A method exists in numpy which does exactly this -- look into https://stackoverflow.com/a/32208788\n",
    "    for i in range(rect_rows):\n",
    "        for j in range(rect_cols):\n",
    "            cell_positions_from_top_left.append((i, j))\n",
    "\n",
    "    #JTK can use a destructured assignment such as `rows,cols = 2d_array.shape`, or `rows,cols,_= 3d_array.shape`\n",
    "    artboard_rows = len(artboard)\n",
    "    artboard_cols = len(artboard[0])\n",
    "\n",
    "    ## pick a random cell in the artboard that is not on the border\n",
    "    random_row = random.randint(0, artboard_rows - rect_rows)\n",
    "    random_col = random.randint(0, artboard_cols - rect_cols)\n",
    "    \"\"\"\n",
    "    #JTK if you use an ndarray as your indices, such as `random_index= np.array([randrow, randcol])`\n",
    "    then you can index into the image using just that array.\n",
    "    \n",
    "    eg.)\n",
    "    someArray = openImage(...)\n",
    "    index = np.array([x,y])\n",
    "    value_at_xy = someArray[index]\n",
    "    \"\"\"\n",
    "    \n",
    "\n",
    "    ## modify and record locations of all of its neighbors\n",
    "    \"\"\"\n",
    "JTK This is one of the first places with big potential performance boosts!!!\n",
    "   1- array < 215         ==>  returns a 2d bool array of the same shape as the original array. True if elmt < 215, else False\n",
    "   2- array[BoolArray]    ==>  returns all elements of array, where BoolArray is 1 (True).\n",
    "   3- np.argwhere(array)  ==>  returns a list of indices (read: locations, nint nint) where the values are non-zero (non-false)\n",
    "   4- array[index] = val  ==>  Assigns val to the array at index. Index can also be a BoolArray (as in case 2 of this comment.)\n",
    "   5- arrayA + arrayB     ==>  returns an array of the same shape as A and B (assuming the initial arrays are the same size), of each element in A added to its corresponding element in B.\n",
    "\n",
    "All of these can be combined to accomplish the below lines of code in 2-3 lines, while also providing a huge\n",
    "performance increase!\n",
    "Let me know if you want any more tips/pointers on how to combine these.\n",
    "\"\"\"\n",
    "    \n",
    "    locations = []\n",
    "    for relative_position in cell_positions_from_top_left:\n",
    "        absolute_row = relative_position[0] + random_row\n",
    "        absolute_col = relative_position[1] + random_col\n",
    "        if artboard[absolute_row][absolute_col] < 215:\n",
    "            artboard[absolute_row][absolute_col] += 40\n",
    "            locations.append((absolute_row, absolute_col))\n",
    "            \n",
    "    \n",
    "    return artboard, locations"
   ]
  },
  {
   "cell_type": "code",
   "execution_count": 12,
   "metadata": {},
   "outputs": [],
   "source": [
    "#JTK as commented below, if locations is never None, then can turn its kwarg into a normal arg.\n",
    "def score(artboard, target, locations=None):\n",
    "    \n",
    "#     print('scoring')\n",
    "    \n",
    "    score = 0\n",
    "    #JTK can move this a few lines down, to just use rows * cols\n",
    "    max_score = len(artboard) * len(artboard[0])\n",
    "#     max score is one point per cell\n",
    "    \n",
    "    #JTK row,cols = artboard.size , as previousl mentioned\n",
    "    rows = len(artboard)\n",
    "    cols = len(artboard[0])\n",
    "    \n",
    "    #JTK can use `if (rows, cols)==target.shape:`\n",
    "    if rows != len(target) or cols != len(target[0]):\n",
    "#         print('errorrr')\n",
    "        return 'target and artboard are not the same size!'\n",
    "    \n",
    "    total_percent_difference = 0\n",
    "    \n",
    "#     for each cell, calculate percent difference between target and artboard by taking min(target, artboard)/max(target, artboard)\n",
    "    #JTK Is this codepath used? If not, can deprecate this conditional.\n",
    "    if not locations:\n",
    "#         print('no locations!')\n",
    "        for i, row in enumerate(artboard):\n",
    "            for j, col in enumerate(row):\n",
    "                target_value = target[i][j]\n",
    "                artboard_value = artboard[i][j]\n",
    "#                 total_percent_difference = abs(target_value - artboard_value)/target_value\n",
    "#                 total_percent_difference += min(target_value, artboard_value)/max(target_value, artboard_value)\n",
    "#                 print(target_value, artboard_value)\n",
    "                squared_difference = (target_value - artboard_value)**2\n",
    "    else:\n",
    "#         print('got locations')\n",
    "        #JTK if locations is an np array of np arrays (of shape (2,n)), then you can turn this whole loop into 1 line.\n",
    "        for pair in locations:\n",
    "#             print('scoring', pair)\n",
    "            target_value = target[pair[0]][pair[1]]\n",
    "            artboard_value = artboard[pair[0]][pair[1]]\n",
    "#             total_percent_difference += abs(artboard[pair[0]][pair[1]] - target[pair[0]][pair[1]])\n",
    "#             total_percent_difference += (1 - abs(artboard[pair[0]][pair[1]] - target[pair[0]][pair[1]])/255)\n",
    "#             print('TPD: ', total_percent_difference)\n",
    "            #JTK squared_difference = np.square(target[pair] - artboard[pair]).\n",
    "            #JTK BUT(!!) If locations is an nparray as described above, then you can pass locations as the index directly,\n",
    "            #JTK and all squared differences for all locations will be computed at once!\n",
    "            squared_difference = (artboard[pair[0]][pair[1]] - target[pair[0]][pair[1]])**2\n",
    "    #JTK potential bug? Is this score meant to be in the loop? right now it's outside of it.\n",
    "    score = squared_difference * -1\n",
    "    \n",
    "#     print(score)\n",
    "    \n",
    "    return score"
   ]
  },
  {
   "cell_type": "code",
   "execution_count": 13,
   "metadata": {},
   "outputs": [],
   "source": [
    "def draw(artboard, target, rect_rows, rect_cols, iterations):\n",
    "    \"\"\"generate a number (iterations) of artboards with random shapes drawn and pick the highest scoring one to keep\"\"\"\n",
    "    \n",
    "    #JTK artboard.copy is sufficient and faster\n",
    "    result = copy.deepcopy(artboard)\n",
    "#     print('copied artboard')\n",
    "    \n",
    "#     get current artboard score to evaluate against\n",
    "#     current_score = score(artboard, target)\n",
    "    count_added = 0\n",
    "    \n",
    "    for i in range(iterations):\n",
    "#         print('iterating')\n",
    "        \n",
    "    #     create a temporary artboard\n",
    "        #JTK result.copy\n",
    "        temp_artboard = copy.deepcopy(result)\n",
    "        \n",
    "    #     add random rectangle to temp artboard\n",
    "        temp_artboard, locations = add_random_variable_rectangle_and_report_change_locations(temp_artboard, rect_rows=rect_rows, rect_cols=rect_cols)\n",
    "        \n",
    "    #     see if that square made an improvement. if so, assign temp_artboard to artboard\n",
    "#         if score(temp_artboard, target, locations) > current_score:\n",
    "        if score(temp_artboard, target, locations) > score(artboard, target, locations):\n",
    "#             print('random addition is improvement')\n",
    "            #JTK temp_artboarrd.copy (actually, do you need to copy here at all? Perhaps, but I'm not certain)\n",
    "            result = copy.deepcopy(temp_artboard)\n",
    "            current_score = score(temp_artboard, target, locations)\n",
    "            count_added += 1\n",
    "    \n",
    "#     print('previous score: ', score(artboard, target))\n",
    "#     print('current score: ', current_score)\n",
    "#     print('total added: ', count_added)\n",
    "#     print('percent improvement: ', ((1 - current_score/score(artboard, target)) * 100))\n",
    "    \n",
    "    return result"
   ]
  },
  {
   "cell_type": "markdown",
   "metadata": {},
   "source": [
    "# Let's make some art!"
   ]
  },
  {
   "cell_type": "code",
   "execution_count": 14,
   "metadata": {},
   "outputs": [
    {
     "ename": "FileNotFoundError",
     "evalue": "[Errno 2] No such file or directory: 'tim_trees.jpg'",
     "output_type": "error",
     "traceback": [
      "\u001b[0;31m---------------------------------------------------------------------------\u001b[0m",
      "\u001b[0;31mFileNotFoundError\u001b[0m                         Traceback (most recent call last)",
      "\u001b[0;32m<ipython-input-14-fcb54e3a33bc>\u001b[0m in \u001b[0;36m<module>\u001b[0;34m\u001b[0m\n\u001b[0;32m----> 1\u001b[0;31m \u001b[0mtim_pic\u001b[0m \u001b[0;34m=\u001b[0m \u001b[0mprocess_pic\u001b[0m\u001b[0;34m(\u001b[0m\u001b[0;34m'tim_trees.jpg'\u001b[0m\u001b[0;34m)\u001b[0m\u001b[0;34m\u001b[0m\u001b[0;34m\u001b[0m\u001b[0m\n\u001b[0m",
      "\u001b[0;32m<ipython-input-10-e7acf2f49817>\u001b[0m in \u001b[0;36mprocess_pic\u001b[0;34m(image_path, target_width)\u001b[0m\n\u001b[1;32m      2\u001b[0m \u001b[0;34m\u001b[0m\u001b[0m\n\u001b[1;32m      3\u001b[0m \u001b[0;31m#     open image and convert to grayscale. image can be jpeg or png\u001b[0m\u001b[0;34m\u001b[0m\u001b[0;34m\u001b[0m\u001b[0;34m\u001b[0m\u001b[0m\n\u001b[0;32m----> 4\u001b[0;31m     \u001b[0mprocessed_pic\u001b[0m \u001b[0;34m=\u001b[0m \u001b[0mImage\u001b[0m\u001b[0;34m.\u001b[0m\u001b[0mopen\u001b[0m\u001b[0;34m(\u001b[0m\u001b[0mimage_path\u001b[0m\u001b[0;34m)\u001b[0m\u001b[0;34m.\u001b[0m\u001b[0mconvert\u001b[0m\u001b[0;34m(\u001b[0m\u001b[0;34m'L'\u001b[0m\u001b[0;34m)\u001b[0m\u001b[0;34m\u001b[0m\u001b[0;34m\u001b[0m\u001b[0m\n\u001b[0m\u001b[1;32m      5\u001b[0m \u001b[0;34m\u001b[0m\u001b[0m\n\u001b[1;32m      6\u001b[0m \u001b[0;31m#     resize image to match specified width while maintaining ratio\u001b[0m\u001b[0;34m\u001b[0m\u001b[0;34m\u001b[0m\u001b[0;34m\u001b[0m\u001b[0m\n",
      "\u001b[0;32m/usr/local/lib/python3.7/site-packages/PIL/Image.py\u001b[0m in \u001b[0;36mopen\u001b[0;34m(fp, mode)\u001b[0m\n\u001b[1;32m   2807\u001b[0m \u001b[0;34m\u001b[0m\u001b[0m\n\u001b[1;32m   2808\u001b[0m     \u001b[0;32mif\u001b[0m \u001b[0mfilename\u001b[0m\u001b[0;34m:\u001b[0m\u001b[0;34m\u001b[0m\u001b[0;34m\u001b[0m\u001b[0m\n\u001b[0;32m-> 2809\u001b[0;31m         \u001b[0mfp\u001b[0m \u001b[0;34m=\u001b[0m \u001b[0mbuiltins\u001b[0m\u001b[0;34m.\u001b[0m\u001b[0mopen\u001b[0m\u001b[0;34m(\u001b[0m\u001b[0mfilename\u001b[0m\u001b[0;34m,\u001b[0m \u001b[0;34m\"rb\"\u001b[0m\u001b[0;34m)\u001b[0m\u001b[0;34m\u001b[0m\u001b[0;34m\u001b[0m\u001b[0m\n\u001b[0m\u001b[1;32m   2810\u001b[0m         \u001b[0mexclusive_fp\u001b[0m \u001b[0;34m=\u001b[0m \u001b[0;32mTrue\u001b[0m\u001b[0;34m\u001b[0m\u001b[0;34m\u001b[0m\u001b[0m\n\u001b[1;32m   2811\u001b[0m \u001b[0;34m\u001b[0m\u001b[0m\n",
      "\u001b[0;31mFileNotFoundError\u001b[0m: [Errno 2] No such file or directory: 'tim_trees.jpg'"
     ]
    }
   ],
   "source": [
    "tim_pic = process_pic('tim_trees.jpg')"
   ]
  },
  {
   "cell_type": "code",
   "execution_count": 15,
   "metadata": {},
   "outputs": [],
   "source": [
    "tim_artboard = create_artboard(225, 300)"
   ]
  },
  {
   "cell_type": "code",
   "execution_count": 16,
   "metadata": {},
   "outputs": [
    {
     "ename": "NameError",
     "evalue": "name 'tim_pic' is not defined",
     "output_type": "error",
     "traceback": [
      "\u001b[0;31m---------------------------------------------------------------------------\u001b[0m",
      "\u001b[0;31mNameError\u001b[0m                                 Traceback (most recent call last)",
      "\u001b[0;32m<ipython-input-16-c87ce7a17313>\u001b[0m in \u001b[0;36m<module>\u001b[0;34m\u001b[0m\n\u001b[0;32m----> 1\u001b[0;31m \u001b[0mtim_artboard\u001b[0m \u001b[0;34m=\u001b[0m \u001b[0mdraw\u001b[0m\u001b[0;34m(\u001b[0m\u001b[0martboard\u001b[0m\u001b[0;34m=\u001b[0m\u001b[0mtim_artboard\u001b[0m\u001b[0;34m,\u001b[0m \u001b[0mtarget\u001b[0m\u001b[0;34m=\u001b[0m\u001b[0mtim_pic\u001b[0m\u001b[0;34m,\u001b[0m \u001b[0mrect_rows\u001b[0m\u001b[0;34m=\u001b[0m\u001b[0;36m2\u001b[0m\u001b[0;34m,\u001b[0m \u001b[0mrect_cols\u001b[0m\u001b[0;34m=\u001b[0m\u001b[0;36m2\u001b[0m\u001b[0;34m,\u001b[0m \u001b[0miterations\u001b[0m\u001b[0;34m=\u001b[0m\u001b[0;36m1000\u001b[0m\u001b[0;34m)\u001b[0m\u001b[0;34m\u001b[0m\u001b[0;34m\u001b[0m\u001b[0m\n\u001b[0m",
      "\u001b[0;31mNameError\u001b[0m: name 'tim_pic' is not defined"
     ]
    }
   ],
   "source": [
    "tim_artboard = draw(artboard=tim_artboard, target=tim_pic, rect_rows=2, rect_cols=2, iterations=1000)"
   ]
  },
  {
   "cell_type": "code",
   "execution_count": 17,
   "metadata": {},
   "outputs": [
    {
     "data": {
      "text/plain": [
       "<matplotlib.image.AxesImage at 0x11f347e50>"
      ]
     },
     "execution_count": 17,
     "metadata": {},
     "output_type": "execute_result"
    },
    {
     "data": {
      "image/png": "[encoded data removed]",
      "text/plain": [
       "<Figure size 432x288 with 1 Axes>"
      ]
     },
     "metadata": {
      "needs_background": "light"
     },
     "output_type": "display_data"
    }
   ],
   "source": [
    "plt.imshow(tim_artboard, cmap=\"Greens\")"
   ]
  },
  {
   "cell_type": "code",
   "execution_count": 18,
   "metadata": {},
   "outputs": [],
   "source": [
    "for i, row in enumerate(tim_artboard):\n",
    "    for j, value in enumerate(row):\n",
    "        tim_artboard[i][j] = 255 - value"
   ]
  },
  {
   "cell_type": "code",
   "execution_count": null,
   "metadata": {},
   "outputs": [],
   "source": []
  },
  {
   "cell_type": "code",
   "execution_count": null,
   "metadata": {},
   "outputs": [],
   "source": [
    "shea_pic = process_pic('shea-coulee.png')"
   ]
  },
  {
   "cell_type": "code",
   "execution_count": null,
   "metadata": {},
   "outputs": [],
   "source": [
    "shea_artboard = create_artboard(198, 300)"
   ]
  },
  {
   "cell_type": "code",
   "execution_count": null,
   "metadata": {},
   "outputs": [],
   "source": [
    "shea_artboard = draw(artboard=shea_artboard, target=shea_pic, rect_rows=6, rect_cols=6, iterations=100)"
   ]
  },
  {
   "cell_type": "code",
   "execution_count": null,
   "metadata": {},
   "outputs": [],
   "source": [
    "plt.imshow(shea_artboard)"
   ]
  },
  {
   "cell_type": "code",
   "execution_count": null,
   "metadata": {},
   "outputs": [],
   "source": []
  },
  {
   "cell_type": "code",
   "execution_count": null,
   "metadata": {},
   "outputs": [],
   "source": [
    "topo_pic = process_pic('jeff-topo-pic-2.jpg')"
   ]
  },
  {
   "cell_type": "code",
   "execution_count": null,
   "metadata": {},
   "outputs": [],
   "source": [
    "topo_artboard = create_artboard(400, 300)"
   ]
  },
  {
   "cell_type": "code",
   "execution_count": null,
   "metadata": {},
   "outputs": [],
   "source": [
    "topo_artboard = draw(artboard=topo_artboard, target=topo_pic, rect_rows=2, rect_cols=2, iterations=10000)"
   ]
  },
  {
   "cell_type": "code",
   "execution_count": null,
   "metadata": {},
   "outputs": [],
   "source": [
    "plt.imshow(topo_artboard)"
   ]
  },
  {
   "cell_type": "code",
   "execution_count": null,
   "metadata": {},
   "outputs": [],
   "source": []
  }
 ],
 "metadata": {
  "kernelspec": {
   "display_name": "Python 3",
   "language": "python",
   "name": "python3"
  },
  "language_info": {
   "codemirror_mode": {
    "name": "ipython",
    "version": 3
   },
   "file_extension": ".py",
   "mimetype": "text/x-python",
   "name": "python",
   "nbconvert_exporter": "python",
   "pygments_lexer": "ipython3",
   "version": "3.7.6"
  }
 },
 "nbformat": 4,
 "nbformat_minor": 2
}
